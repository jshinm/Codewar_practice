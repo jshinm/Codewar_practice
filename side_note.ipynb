{
 "cells": [
  {
   "cell_type": "markdown",
   "source": [
    "## modified BST implementation for combination sum problem"
   ],
   "metadata": {}
  },
  {
   "cell_type": "code",
   "execution_count": 26,
   "source": [
    "class BST:\r\n",
    "    def __init__(self, val=[], left=None, right=None):\r\n",
    "        self.val = val\r\n",
    "        self.left = left\r\n",
    "        self.right = right\r\n",
    "\r\n",
    "def create_node(lst, temp_lst=[], target=0):\r\n",
    "    if len(lst) < 2:\r\n",
    "        return None\r\n",
    "\r\n",
    "    if sum(temp_lst) + lst[0] > target:\r\n",
    "        temp = BST(val=temp_lst)\r\n",
    "    else:\r\n",
    "        temp_lst += [lst[0]]\r\n",
    "        lst = lst[1:]\r\n",
    "        temp = BST(val=temp_lst, left=create_node(lst,temp_lst,target), right=create_node(lst,temp_lst,target))\r\n",
    "        if sum(temp_lst) == target:\r\n",
    "            print(temp_lst)\r\n",
    "\r\n",
    "    return temp, temp_lst\r\n",
    "\r\n",
    "lst = [1,2,3,4,5,6,7,8]\r\n",
    "\r\n",
    "bst = create_node(lst, target=18)"
   ],
   "outputs": [
    {
     "output_type": "stream",
     "name": "stdout",
     "text": [
      "[1, 2, 3, 4, 5, 3]\n",
      "[1, 2, 3, 4, 5, 3]\n",
      "[1, 2, 3, 4, 5, 3]\n"
     ]
    }
   ],
   "metadata": {}
  },
  {
   "cell_type": "markdown",
   "source": [
    "## is empty list true of false?"
   ],
   "metadata": {}
  },
  {
   "cell_type": "code",
   "execution_count": 76,
   "source": [
    "if []: #empty list returns false\r\n",
    "    print('empty')\r\n",
    "else:\r\n",
    "    print('not empty')"
   ],
   "outputs": [
    {
     "output_type": "stream",
     "name": "stdout",
     "text": [
      "not empty\n"
     ]
    }
   ],
   "metadata": {}
  },
  {
   "cell_type": "markdown",
   "source": [
    "## does calling methods in conditional stay?"
   ],
   "metadata": {}
  },
  {
   "cell_type": "code",
   "execution_count": 28,
   "source": [
    "lst = [1,2,3]\r\n",
    "if lst.pop() == 3:\r\n",
    "    print(lst) #conditional executes pop => loses element\r\n",
    "lst[-1], lst.pop(), lst, lst.pop(), lst #loss is carried out and subsequent pops occur before printing out `lst`"
   ],
   "outputs": [
    {
     "output_type": "stream",
     "name": "stdout",
     "text": [
      "[1, 2]\n"
     ]
    },
    {
     "output_type": "execute_result",
     "data": {
      "text/plain": [
       "(2, 2, [], 1, [])"
      ]
     },
     "metadata": {},
     "execution_count": 28
    }
   ],
   "metadata": {}
  },
  {
   "cell_type": "markdown",
   "source": [
    "## when does while loop terminated?"
   ],
   "metadata": {}
  },
  {
   "cell_type": "code",
   "execution_count": 81,
   "source": [
    "end = True\r\n",
    "while end:\r\n",
    "    for i in [1,2,3]:\r\n",
    "        print(i)\r\n",
    "        end = False #while terminated immediately\r\n",
    "        break"
   ],
   "outputs": [
    {
     "output_type": "stream",
     "name": "stdout",
     "text": [
      "1\n"
     ]
    }
   ],
   "metadata": {}
  },
  {
   "cell_type": "markdown",
   "source": [
    "## memory pointer in python"
   ],
   "metadata": {}
  },
  {
   "cell_type": "code",
   "execution_count": 49,
   "source": [
    "#list manipulated after assigned\r\n",
    "temp_lst = []\r\n",
    "lst = [temp_lst]\r\n",
    "\r\n",
    "temp_lst += [1] #what's embedded inside `lst` binds to `lst`\r\n",
    "temp_lst = [123] #new temp_lst created which doesn't affect embedded temp_lst\r\n",
    "\r\n",
    "lst, temp_lst"
   ],
   "outputs": [
    {
     "output_type": "execute_result",
     "data": {
      "text/plain": [
       "([[1]], [123])"
      ]
     },
     "metadata": {},
     "execution_count": 49
    }
   ],
   "metadata": {}
  },
  {
   "cell_type": "markdown",
   "source": [
    "## quick recursion practice"
   ],
   "metadata": {}
  },
  {
   "cell_type": "code",
   "execution_count": 15,
   "source": [
    "def func(a):\r\n",
    "    if a > 10:\r\n",
    "        return 0\r\n",
    "    return func(a+1) + 1\r\n",
    "\r\n",
    "func(1)"
   ],
   "outputs": [
    {
     "output_type": "execute_result",
     "data": {
      "text/plain": [
       "10"
      ]
     },
     "metadata": {},
     "execution_count": 15
    }
   ],
   "metadata": {}
  },
  {
   "cell_type": "markdown",
   "source": [
    "## popping list reindexes the item"
   ],
   "metadata": {}
  },
  {
   "cell_type": "code",
   "execution_count": 22,
   "source": [
    "temp = [1,2,3]\r\n",
    "temp.pop(1)\r\n",
    "try:\r\n",
    "    temp.pop(2)\r\n",
    "except Exception:\r\n",
    "    print('out of list')"
   ],
   "outputs": [
    {
     "output_type": "stream",
     "name": "stdout",
     "text": [
      "out of list\n"
     ]
    }
   ],
   "metadata": {}
  },
  {
   "cell_type": "markdown",
   "source": [
    "## quick pythonic search by index (TC?)"
   ],
   "metadata": {}
  },
  {
   "cell_type": "code",
   "execution_count": 23,
   "source": [
    "[1,2,3].index(2)"
   ],
   "outputs": [
    {
     "output_type": "execute_result",
     "data": {
      "text/plain": [
       "1"
      ]
     },
     "metadata": {},
     "execution_count": 23
    }
   ],
   "metadata": {}
  },
  {
   "cell_type": "markdown",
   "source": [
    "## sorting methods for string"
   ],
   "metadata": {}
  },
  {
   "cell_type": "code",
   "execution_count": 31,
   "source": [
    "# turn str to list\r\n",
    "a = list('cba')\r\n",
    "a.sort()\r\n",
    "print(a)\r\n",
    "\r\n",
    "# sort the string\r\n",
    "print(sorted('cba'))\r\n",
    "\r\n",
    "print(['a', 'b', 'c'] == sorted('cba'))\r\n",
    "\r\n",
    "# turn list back into a string form\r\n",
    "''.join(sorted('cba'))"
   ],
   "outputs": [
    {
     "output_type": "stream",
     "name": "stdout",
     "text": [
      "['a', 'b', 'c']\n",
      "['a', 'b', 'c']\n",
      "True\n"
     ]
    },
    {
     "output_type": "execute_result",
     "data": {
      "text/plain": [
       "'abc'"
      ]
     },
     "metadata": {},
     "execution_count": 31
    }
   ],
   "metadata": {}
  }
 ],
 "metadata": {
  "orig_nbformat": 4,
  "language_info": {
   "name": "python",
   "version": "3.8.10",
   "mimetype": "text/x-python",
   "codemirror_mode": {
    "name": "ipython",
    "version": 3
   },
   "pygments_lexer": "ipython3",
   "nbconvert_exporter": "python",
   "file_extension": ".py"
  },
  "kernelspec": {
   "name": "python3",
   "display_name": "Python 3.8.10 64-bit (windows store)"
  },
  "interpreter": {
   "hash": "ebf20119e036fbe69c35eaa30a9897466096db747ffea3bbdf7fa1c6721ce681"
  }
 },
 "nbformat": 4,
 "nbformat_minor": 2
}