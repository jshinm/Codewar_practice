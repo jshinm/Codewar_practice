{
 "cells": [
  {
   "cell_type": "markdown",
   "metadata": {},
   "source": [
    "## modified BST implementation for combination sum problem"
   ]
  },
  {
   "cell_type": "code",
   "execution_count": 26,
   "metadata": {},
   "outputs": [
    {
     "name": "stdout",
     "output_type": "stream",
     "text": [
      "[1, 2, 3, 4, 5, 3]\n",
      "[1, 2, 3, 4, 5, 3]\n",
      "[1, 2, 3, 4, 5, 3]\n"
     ]
    }
   ],
   "source": [
    "class BST:\n",
    "    def __init__(self, val=[], left=None, right=None):\n",
    "        self.val = val\n",
    "        self.left = left\n",
    "        self.right = right\n",
    "\n",
    "def create_node(lst, temp_lst=[], target=0):\n",
    "    if len(lst) < 2:\n",
    "        return None\n",
    "\n",
    "    if sum(temp_lst) + lst[0] > target:\n",
    "        temp = BST(val=temp_lst)\n",
    "    else:\n",
    "        temp_lst += [lst[0]]\n",
    "        lst = lst[1:]\n",
    "        temp = BST(val=temp_lst, left=create_node(lst,temp_lst,target), right=create_node(lst,temp_lst,target))\n",
    "        if sum(temp_lst) == target:\n",
    "            print(temp_lst)\n",
    "\n",
    "    return temp, temp_lst\n",
    "\n",
    "lst = [1,2,3,4,5,6,7,8]\n",
    "\n",
    "bst = create_node(lst, target=18)"
   ]
  },
  {
   "cell_type": "markdown",
   "metadata": {},
   "source": [
    "## is empty list true of false?"
   ]
  },
  {
   "cell_type": "code",
   "execution_count": 76,
   "metadata": {},
   "outputs": [
    {
     "name": "stdout",
     "output_type": "stream",
     "text": [
      "not empty\n"
     ]
    }
   ],
   "source": [
    "if []: #empty list returns false\n",
    "    print('empty')\n",
    "else:\n",
    "    print('not empty')"
   ]
  },
  {
   "cell_type": "markdown",
   "metadata": {},
   "source": [
    "## does calling methods in conditional stay?"
   ]
  },
  {
   "cell_type": "code",
   "execution_count": 28,
   "metadata": {},
   "outputs": [
    {
     "name": "stdout",
     "output_type": "stream",
     "text": [
      "[1, 2]\n"
     ]
    },
    {
     "data": {
      "text/plain": [
       "(2, 2, [], 1, [])"
      ]
     },
     "execution_count": 28,
     "metadata": {},
     "output_type": "execute_result"
    }
   ],
   "source": [
    "lst = [1,2,3]\n",
    "if lst.pop() == 3:\n",
    "    print(lst) #conditional executes pop => loses element\n",
    "lst[-1], lst.pop(), lst, lst.pop(), lst #loss is carried out and subsequent pops occur before printing out `lst`"
   ]
  },
  {
   "cell_type": "markdown",
   "metadata": {},
   "source": [
    "## when does while loop terminated?"
   ]
  },
  {
   "cell_type": "code",
   "execution_count": 81,
   "metadata": {},
   "outputs": [
    {
     "name": "stdout",
     "output_type": "stream",
     "text": [
      "1\n"
     ]
    }
   ],
   "source": [
    "end = True\n",
    "while end:\n",
    "    for i in [1,2,3]:\n",
    "        print(i)\n",
    "        end = False #while terminated immediately\n",
    "        break"
   ]
  },
  {
   "cell_type": "markdown",
   "metadata": {},
   "source": [
    "## memory pointer in python"
   ]
  },
  {
   "cell_type": "code",
   "execution_count": 49,
   "metadata": {},
   "outputs": [
    {
     "data": {
      "text/plain": [
       "([[1]], [123])"
      ]
     },
     "execution_count": 49,
     "metadata": {},
     "output_type": "execute_result"
    }
   ],
   "source": [
    "#list manipulated after assigned\n",
    "temp_lst = []\n",
    "lst = [temp_lst]\n",
    "\n",
    "temp_lst += [1] #what's embedded inside `lst` binds to `lst`\n",
    "temp_lst = [123] #new temp_lst created which doesn't affect embedded temp_lst\n",
    "\n",
    "lst, temp_lst"
   ]
  },
  {
   "cell_type": "markdown",
   "metadata": {},
   "source": [
    "## quick recursion practice"
   ]
  },
  {
   "cell_type": "code",
   "execution_count": 15,
   "metadata": {},
   "outputs": [
    {
     "data": {
      "text/plain": [
       "10"
      ]
     },
     "execution_count": 15,
     "metadata": {},
     "output_type": "execute_result"
    }
   ],
   "source": [
    "def func(a):\n",
    "    if a > 10:\n",
    "        return 0\n",
    "    return func(a+1) + 1\n",
    "\n",
    "func(1)"
   ]
  },
  {
   "cell_type": "markdown",
   "metadata": {},
   "source": [
    "## popping list reindexes the item"
   ]
  },
  {
   "cell_type": "code",
   "execution_count": 22,
   "metadata": {},
   "outputs": [
    {
     "name": "stdout",
     "output_type": "stream",
     "text": [
      "out of list\n"
     ]
    }
   ],
   "source": [
    "temp = [1,2,3]\n",
    "temp.pop(1)\n",
    "try:\n",
    "    temp.pop(2)\n",
    "except Exception:\n",
    "    print('out of list')"
   ]
  },
  {
   "cell_type": "markdown",
   "metadata": {},
   "source": [
    "## quick pythonic search by index (TC?)"
   ]
  },
  {
   "cell_type": "code",
   "execution_count": 23,
   "metadata": {},
   "outputs": [
    {
     "data": {
      "text/plain": [
       "1"
      ]
     },
     "execution_count": 23,
     "metadata": {},
     "output_type": "execute_result"
    }
   ],
   "source": [
    "[1,2,3].index(2)"
   ]
  },
  {
   "cell_type": "markdown",
   "metadata": {},
   "source": [
    "## sorting methods for string"
   ]
  },
  {
   "cell_type": "code",
   "execution_count": 31,
   "metadata": {},
   "outputs": [
    {
     "name": "stdout",
     "output_type": "stream",
     "text": [
      "['a', 'b', 'c']\n",
      "['a', 'b', 'c']\n",
      "True\n"
     ]
    },
    {
     "data": {
      "text/plain": [
       "'abc'"
      ]
     },
     "execution_count": 31,
     "metadata": {},
     "output_type": "execute_result"
    }
   ],
   "source": [
    "# turn str to list\n",
    "a = list('cba')\n",
    "a.sort()\n",
    "print(a)\n",
    "\n",
    "# sort the string\n",
    "print(sorted('cba'))\n",
    "\n",
    "print(['a', 'b', 'c'] == sorted('cba'))\n",
    "\n",
    "# turn list back into a string form\n",
    "''.join(sorted('cba'))"
   ]
  },
  {
   "cell_type": "markdown",
   "metadata": {},
   "source": [
    "## modify iterable while looping"
   ]
  },
  {
   "cell_type": "code",
   "execution_count": 45,
   "metadata": {},
   "outputs": [
    {
     "name": "stdout",
     "output_type": "stream",
     "text": [
      "[1, 2, 3, 4] [5] 1\n",
      "[1, 2, 3] [5, 4] 2\n",
      "[1, 2] [5, 4, 3] 3\n"
     ]
    }
   ],
   "source": [
    "a = [1,2,3,4,5]\n",
    "b = []\n",
    "for i in a:\n",
    "    b.append(a.pop())\n",
    "    print(a, b, i)"
   ]
  },
  {
   "cell_type": "code",
   "execution_count": 48,
   "metadata": {},
   "outputs": [
    {
     "name": "stdout",
     "output_type": "stream",
     "text": [
      "4 5 4\n",
      "3 3 2\n",
      "pop from empty list\n"
     ]
    }
   ],
   "source": [
    "a = [1,2,3,4,5]\n",
    "\n",
    "try:\n",
    "    for i in range(len(a)-1,0,-1):\n",
    "        print(i, a.pop(), a.pop())\n",
    "except Exception as e:\n",
    "    print(e)\n",
    "\n",
    "# this indicates that when range is instantiated, it is actively being updated wrt the conditions used to build the range"
   ]
  },
  {
   "cell_type": "markdown",
   "metadata": {},
   "source": [
    "## tupling the list does not sort automatically"
   ]
  },
  {
   "cell_type": "code",
   "execution_count": 54,
   "metadata": {},
   "outputs": [
    {
     "data": {
      "text/plain": [
       "(1, 5, 2)"
      ]
     },
     "execution_count": 54,
     "metadata": {},
     "output_type": "execute_result"
    }
   ],
   "source": [
    "tuple([1,5,2])"
   ]
  },
  {
   "cell_type": "code",
   "execution_count": null,
   "metadata": {},
   "outputs": [],
   "source": []
  }
 ],
 "metadata": {
  "interpreter": {
   "hash": "ebf20119e036fbe69c35eaa30a9897466096db747ffea3bbdf7fa1c6721ce681"
  },
  "kernelspec": {
   "display_name": "Python 3.8.10 64-bit (windows store)",
   "name": "python3"
  },
  "language_info": {
   "codemirror_mode": {
    "name": "ipython",
    "version": 3
   },
   "file_extension": ".py",
   "mimetype": "text/x-python",
   "name": "python",
   "nbconvert_exporter": "python",
   "pygments_lexer": "ipython3",
   "version": "3.8.10"
  },
  "orig_nbformat": 4
 },
 "nbformat": 4,
 "nbformat_minor": 2
}
